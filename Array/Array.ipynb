{
 "cells": [
  {
   "cell_type": "markdown",
   "id": "7f7bfbc4-e435-48f7-9d26-51ba1525b9f2",
   "metadata": {},
   "source": [
    "# <center>Array Implemetation With Python Code</center>"
   ]
  },
  {
   "cell_type": "code",
   "execution_count": 3,
   "id": "0797ab50-0e72-419a-b435-e4b07e3a2bcd",
   "metadata": {},
   "outputs": [],
   "source": [
    "import tkinter as tk\n",
    "from tkinter import messagebox\n",
    "\n",
    "class ArrayApp:\n",
    "    def __init__(self, master):\n",
    "        self.master = master\n",
    "        self.master.title(\"Array - Nishit Shivdasani\")\n",
    "        self.array = []\n",
    "        self.max_size = 10\n",
    "\n",
    "        self.canvas = tk.Canvas(master, width=600, height=300, bg=\"white\")\n",
    "        self.canvas.pack()\n",
    "\n",
    "        self.label_size = tk.Label(master, text=\"Enter Max Size (10):\", font=(\"Helvetica\", 12))\n",
    "        self.label_size.pack()\n",
    "        self.entry_size = tk.Entry(master)\n",
    "        self.entry_size.pack()\n",
    "\n",
    "        self.label_data = tk.Label(master, text=\"Enter Element:\", font=(\"Helvetica\", 12))\n",
    "        self.label_data.pack()\n",
    "        self.entry_data = tk.Entry(master)\n",
    "        self.entry_data.pack()\n",
    "\n",
    "        self.insert_button = tk.Button(master, text=\"Insert\", command=self.insert_element)\n",
    "        self.insert_button.pack(pady=5)\n",
    "\n",
    "        self.display_button = tk.Button(master, text=\"Display\", command=self.display_array)\n",
    "        self.display_button.pack(pady=5)\n",
    "\n",
    "        self.output_label = tk.Label(master, text=\"\", font=(\"Helvetica\", 12))\n",
    "        self.output_label.pack(pady=10)\n",
    "\n",
    "    def insert_element(self):\n",
    "        data = self.entry_data.get()\n",
    "        if len(self.array) < self.max_size:\n",
    "            self.array.append(data)\n",
    "            self.output_label.config(text=\"Element inserted: {}\".format(data))\n",
    "            self.draw_array()\n",
    "        else:\n",
    "            messagebox.showerror(\"Error\", \"Array is full!\")\n",
    "\n",
    "    def display_array(self):\n",
    "        messagebox.showinfo(\"Array\", \"Array Contents: \" + \", \".join(self.array))\n",
    "\n",
    "    def draw_array(self):\n",
    "        self.canvas.delete(\"all\")\n",
    "        x_start = 50\n",
    "        y_start = 150\n",
    "        for i, item in enumerate(self.array):\n",
    "            self.canvas.create_rectangle(x_start + i*50, y_start, x_start + i*50 + 40, y_start + 40, fill=\"lightblue\", outline=\"black\")\n",
    "            self.canvas.create_text(x_start + i*50 + 20, y_start + 20, text=str(item), font=(\"Arial\", 12, \"bold\"))\n",
    "\n",
    "if __name__ == \"__main__\":\n",
    "    root = tk.Tk()\n",
    "    app = ArrayApp(root)\n",
    "    root.mainloop()"
   ]
  }
 ],
 "metadata": {
  "kernelspec": {
   "display_name": "Python 3 (ipykernel)",
   "language": "python",
   "name": "python3"
  },
  "language_info": {
   "codemirror_mode": {
    "name": "ipython",
    "version": 3
   },
   "file_extension": ".py",
   "mimetype": "text/x-python",
   "name": "python",
   "nbconvert_exporter": "python",
   "pygments_lexer": "ipython3",
   "version": "3.11.5"
  }
 },
 "nbformat": 4,
 "nbformat_minor": 5
}
